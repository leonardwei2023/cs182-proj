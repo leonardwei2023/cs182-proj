{
 "cells": [
  {
   "cell_type": "code",
   "execution_count": 14,
   "metadata": {},
   "outputs": [],
   "source": [
    "import math\n",
    "import matplotlib.pyplot as plt\n",
    "import numpy as np\n",
    "import torch\n",
    "import torch.nn as nn\n",
    "from torch.autograd import Variable\n",
    "import tqdm\n",
    "\n",
    "import matplotlib.pyplot as plt\n",
    "from mpl_toolkits.mplot3d import Axes3D\n",
    "\n",
    "\n",
    "from pyntcloud import PyntCloud\n",
    "\n",
    "from dataset import ShapeNetDataset\n",
    "from model import ClassificationNN, SegmentationNN, FeatureTransform, train, plot_stats\n",
    "from torch.utils.data import DataLoader, random_split"
   ]
  },
  {
   "cell_type": "code",
   "execution_count": 15,
   "metadata": {},
   "outputs": [
    {
     "name": "stdout",
     "output_type": "stream",
     "text": [
      "The autoreload extension is already loaded. To reload it, use:\n",
      "  %reload_ext autoreload\n"
     ]
    }
   ],
   "source": [
    "%load_ext autoreload\n",
    "%autoreload 2\n",
    "# %matplotlib widget"
   ]
  },
  {
   "cell_type": "code",
   "execution_count": 16,
   "metadata": {},
   "outputs": [
    {
     "name": "stdout",
     "output_type": "stream",
     "text": [
      "cuda\n"
     ]
    }
   ],
   "source": [
    "device = torch.device(\"cuda\" if torch.cuda.is_available() else \"cpu\")\n",
    "print(device)"
   ]
  },
  {
   "cell_type": "markdown",
   "metadata": {},
   "source": [
    "![plot](images/model.png)"
   ]
  },
  {
   "cell_type": "code",
   "execution_count": 17,
   "metadata": {},
   "outputs": [],
   "source": [
    "import subprocess\n",
    "import os\n",
    "if os.path.exists('./datasets'):\n",
    "    pass\n",
    "else:\n",
    "    if not os.path.exists('./ModelNet10.zip'):\n",
    "        subprocess.run([\"wget\", \"http://3dvision.princeton.edu/projects/2014/3DShapeNets/ModelNet10.zip\"])\n",
    "    subprocess.run([\"unzip\", \"-o\", \"ModelNet10.zip\", \"-d\", \"./datasets/\"])\n",
    "\n"
   ]
  },
  {
   "cell_type": "code",
   "execution_count": 18,
   "metadata": {},
   "outputs": [],
   "source": [
    "n = 10000\n",
    "\n",
    "trainset = ShapeNetDataset(\"datasets/ModelNet10\", train=True, n=n)\n",
    "testset = ShapeNetDataset(\"datasets/ModelNet10\", train=False, n=n)\n",
    "\n",
    "dataset_length = len(trainset)\n",
    "train_ratio = 0.7\n",
    "test_ratio = 0.3\n",
    "\n",
    "train_len = int(dataset_length * train_ratio)\n",
    "test_len = dataset_length - train_len\n",
    "\n",
    "trainset, testset = random_split(trainset, [train_len, test_len])\n"
   ]
  },
  {
   "cell_type": "code",
   "execution_count": 19,
   "metadata": {},
   "outputs": [],
   "source": [
    "num_classes = 10\n",
    "classification_model = ClassificationNN(num_classes).to(device)"
   ]
  },
  {
   "cell_type": "code",
   "execution_count": 21,
   "metadata": {},
   "outputs": [],
   "source": [
    "lr = 0.0001\n",
    "epochs = 1\n",
    "\n",
    "optimizer = torch.optim.Adam(classification_model.parameters(), lr=lr)\n",
    "train(classification_model, trainset, testset, optimizer, epochs=epochs, device=device)"
   ]
  },
  {
   "cell_type": "markdown",
   "metadata": {},
   "source": [
    "# ModelNet10 Dataset"
   ]
  },
  {
   "cell_type": "markdown",
   "metadata": {},
   "source": [
    "The ModelNet10 Dataset features 5586 different pointcloud objects across 12 different classes. Below, we show the train/test split for each of the classes."
   ]
  },
  {
   "cell_type": "code",
   "execution_count": null,
   "metadata": {},
   "outputs": [],
   "source": [
    "train_indices = trainset.indices\n",
    "test_indices = testset.indices\n",
    "\n",
    "dataset = ShapeNetDataset(\"datasets/ModelNet10\", train=True, n=n)\n",
    "\n",
    "train_class_counts = dataset.df.loc[train_indices, 'label'].value_counts()\n",
    "test_class_counts = dataset.df.loc[test_indices, 'label'].value_counts()\n",
    "\n",
    "x_labels = [dataset.classes[label] for label in train_class_counts.index]\n",
    "x = range(len(x_labels))\n",
    "\n",
    "plt.bar(x, train_class_counts, label='train', width=0.4)\n",
    "plt.bar([xi + 0.4 for xi in range(len(x_labels))], test_class_counts, label='test', width=0.4)\n",
    "plt.xticks([xi for xi in x], x_labels, rotation=45)\n",
    "plt.ylabel('Number of Samples')\n",
    "plt.title('Train/Test Dataset Contents')\n",
    "plt.legend()"
   ]
  },
  {
   "cell_type": "markdown",
   "metadata": {},
   "source": [
    "Here, we will show an example of a desk pointcloud. We first print out the first point of its representation. Note that it is a set of unordered (X, Y, Z) point."
   ]
  },
  {
   "cell_type": "code",
   "execution_count": null,
   "metadata": {},
   "outputs": [],
   "source": [
    "for key, value in dataset.classes.items():\n",
    "    if value == \"desk\":\n",
    "        label = key\n",
    "        break\n",
    "\n",
    "idx = dataset.df[dataset.df['label'] == label].index[0]\n",
    "point_cloud = dataset[idx]\n",
    "first_point = point_cloud[0].tolist()  \n",
    "print(f\"Class: desk\")\n",
    "print(\"First point xyz coords\")\n",
    "print(f\"x: {first_point[0][0]}, y: {first_point[1][0]}, z: {first_point[2][0]}\")\n",
    "print()"
   ]
  },
  {
   "cell_type": "markdown",
   "metadata": {},
   "source": [
    "Now, we will produce a scatter plot showing the desk's representation by plotting the (x, y, z) points on a 3D scatter plot."
   ]
  },
  {
   "cell_type": "code",
   "execution_count": null,
   "metadata": {},
   "outputs": [],
   "source": [
    "np_ptcld = point_cloud[0].numpy()\n",
    "fig = plt.figure(figsize=(6,6))\n",
    "ax = fig.add_subplot(projection='3d')\n",
    "ax.scatter(np_ptcld[0], np_ptcld[1], np_ptcld[2], s=2)\n",
    "plt.title('Desk Pointcloud')\n",
    "plt.show()"
   ]
  },
  {
   "cell_type": "code",
   "execution_count": null,
   "metadata": {},
   "outputs": [],
   "source": []
  }
 ],
 "metadata": {
  "kernelspec": {
   "display_name": "6dpose",
   "language": "python",
   "name": "python3"
  },
  "language_info": {
   "codemirror_mode": {
    "name": "ipython",
    "version": 3
   },
   "file_extension": ".py",
   "mimetype": "text/x-python",
   "name": "python",
   "nbconvert_exporter": "python",
   "pygments_lexer": "ipython3",
   "version": "3.9.16"
  }
 },
 "nbformat": 4,
 "nbformat_minor": 2
}
