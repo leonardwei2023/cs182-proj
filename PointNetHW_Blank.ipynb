{
 "cells": [
  {
   "cell_type": "markdown",
   "id": "4e958589",
   "metadata": {},
   "source": [
    "# Point Net Homework\n",
    "\n",
    "The following homework is based on the paper, \"PointNet: Deep Learning on Point Sets for 3D Classification and Segmentation\" by Qi et al.\n",
    "\n",
    "In this paper, the authors present a novel neural network architecture that takes in point clouds as inputs. This network can be used across many tasks including object segmentation, part segmentation, and scene semantic parsing. "
   ]
  },
  {
   "cell_type": "markdown",
   "id": "cacee2e0",
   "metadata": {},
   "source": [
    "## 1. 3D Data Representation\n",
    "\n",
    "There are various ways one could represent 3D before inputting into a neural network. Histocially, networks have used convolutional architecures, which require inputs to be highly standardized. As such, researchers will often convert their data into 3D voxel grids or collections of images. \n",
    "\n",
    "As stated by the authors, these data formats are volumous, due to data redundancy, and may introduce quantization artifacts. As such, we will be focusing on 3D Meshes and Point Clouds.\n",
    "\n"
   ]
  },
  {
   "cell_type": "code",
   "execution_count": 2,
   "id": "29f7c3b6",
   "metadata": {},
   "outputs": [],
   "source": [
    "import pyvista as pv\n",
    "import numpy as np\n",
    "import torch\n",
    "import torch.nn as nn\n",
    "import torch.nn.functional as F\n",
    "from torch.utils.data import DataLoader, random_split\n",
    "from torch.autograd import Variable\n",
    "from tqdm.notebook import tqdm\n",
    "import numpy as np\n",
    "import matplotlib.pyplot as plt\n",
    "from dataset import ShapeNetDataset\n",
    "#from pytorch_model_summary import summary"
   ]
  },
  {
   "cell_type": "code",
   "execution_count": 3,
   "id": "56592ba3",
   "metadata": {},
   "outputs": [],
   "source": [
    "teapot_file_path = '../cs182-proj/images/canvas3D-master/teapot.ply'\n",
    "points_data = pv.read(teapot_file_path)"
   ]
  },
  {
   "cell_type": "markdown",
   "id": "1a8b5a18",
   "metadata": {},
   "source": [
    "### 3D Mesh\n",
    "\n",
    "The 3D Mesh is generated using a set of polygons to represent the structure of the object. It is determined using points with X, Y, Z coordinates. These points are connected to make polygons, most commonly triangles and quads.\n"
   ]
  },
  {
   "cell_type": "code",
   "execution_count": 3,
   "id": "c3bb7799",
   "metadata": {},
   "outputs": [],
   "source": [
    "points_data.plot(jupyter_backend='panel')"
   ]
  },
  {
   "cell_type": "markdown",
   "id": "384c701c",
   "metadata": {},
   "source": [
    "### Point Cloud\n",
    "Point Clouds are a basic data format in which the points are represented in 3D space, using X, Y, and Z coordinates. "
   ]
  },
  {
   "cell_type": "code",
   "execution_count": 4,
   "id": "8b53a669",
   "metadata": {},
   "outputs": [
    {
     "data": {
      "text/plain": [
       "\"\\nsphere = pv.Sphere(radius=0.05)\\npc = points_data.glyph(scale=False, geom=sphere, orient=False)\\npc.plot(cmap='Reds', jupyter_backend='panel')\\n\""
      ]
     },
     "execution_count": 4,
     "metadata": {},
     "output_type": "execute_result"
    }
   ],
   "source": [
    "sphere = pv.Sphere(radius=0.05)\n",
    "pc = points_data.glyph(scale=False, geom=sphere, orient=False)\n",
    "pc.plot(cmap='Reds', jupyter_backend='panel')"
   ]
  },
  {
   "cell_type": "markdown",
   "id": "0ecc0a25",
   "metadata": {},
   "source": [
    "The authors in the paper chose to use Point Clouds instead of a 3D Mesh. **Looking at the objects, why would they choose to do so?**\n",
    "\n",
    "Solution: 3D Meshes have additional complexity and combinations that must be carried through, thereby drastically increasing the complexity of the data format. Further, there is likely little value add by including this additional information outside of for visualization purposes."
   ]
  },
  {
   "cell_type": "markdown",
   "id": "5bf95112",
   "metadata": {},
   "source": [
    "## 2. The Model Architecture\n",
    "\n",
    "The archicture of PointNet is as follows:\n",
    "![plot](images/model.png)\n",
    "\n",
    "In the paper, the authors used the ModelNet10 dataset and the ModelNet40 dataset. The ModelNet10 dataset has 10 classes of varying objects.\n",
    "\n",
    "![plot](images/class_detail.png)\n",
    "\n",
    "However, given the size of the dataset, it is not feasible to train the entire model in the context of this homework. As such, we have modified the dataset to be a binary classification problem: bathtub or table.\n",
    "\n",
    "In the following sections we will implement pieces of the architecture and see how they impact the downstream performance of the model"
   ]
  },
  {
   "cell_type": "code",
   "execution_count": 5,
   "id": "35cdbfdd",
   "metadata": {},
   "outputs": [],
   "source": [
    "n = 10000\n",
    "num_classes = 2\n",
    "epochs = 5\n",
    "\n",
    "trainset = ShapeNetDataset(\"datasets/ModelNet2\", train=True, n=n)\n",
    "testset = ShapeNetDataset(\"datasets/ModelNet2\", train=False, n=n)\n",
    "\n",
    "dataset_length = len(trainset)\n",
    "train_ratio = 0.7\n",
    "test_ratio = 0.3\n",
    "\n",
    "train_len = int(dataset_length * train_ratio)\n",
    "valid_len = dataset_length - train_len\n",
    "\n",
    "trainset, validset = random_split(trainset, [train_len, valid_len])\n"
   ]
  },
  {
   "cell_type": "code",
   "execution_count": 6,
   "id": "924b2d16",
   "metadata": {},
   "outputs": [],
   "source": [
    "def loss_fn(preds, labels, feature_transform, reg=0.0001):\n",
    "    loss = torch.nn.NLLLoss()\n",
    "    def feat_loss(A):\n",
    "        I = torch.eye(64, requires_grad=True).expand(A.size(0), -1, -1)\n",
    "        AA_T = torch.bmm(A, A.transpose(1, 2))\n",
    "        return torch.linalg.norm(I - AA_T, ord='fro', dim=(1,2))\n",
    "    return loss(preds, labels) + reg * torch.mean(feat_loss(feature_transform))\n",
    "\n",
    "def train(model, trainset, validset, optimizer, epochs=10, batch_size=32, device=torch.device('cpu')):\n",
    "    train_dataloader = DataLoader(trainset, batch_size=batch_size, shuffle=True)\n",
    "    valid_dataloader = DataLoader(validset, batch_size=batch_size, shuffle=True)\n",
    "\n",
    "    train_losses, train_accs = [], []\n",
    "    valid_losses, valid_accs = [], []\n",
    "\n",
    "    model = model.to(device)\n",
    "    \n",
    "    for epoch in range(epochs):\n",
    "        model.train()\n",
    "        # Train and get training loss and accuracy\n",
    "        train_loss, train_num_correct = [], []\n",
    "        for x, y in tqdm(train_dataloader, unit='batch'):\n",
    "            x, y = x.to(device), y.to(device)\n",
    "            optimizer.zero_grad()\n",
    "            pred, feat = model(x)\n",
    "            loss = loss_fn(pred, y, feat)\n",
    "            loss.backward()\n",
    "            optimizer.step()\n",
    "            train_loss.append(loss.item())\n",
    "            train_num_correct.append(torch.sum(pred.argmax(1) == y).item())\n",
    "        train_losses.append(np.mean(train_loss))\n",
    "        train_accs.append(np.sum(train_num_correct) / len(trainset))\n",
    "\n",
    "        model.eval()\n",
    "        # Get validation loss and accuracy\n",
    "        with torch.no_grad():\n",
    "            valid_loss, valid_num_correct = [], []\n",
    "            for x, y in tqdm(valid_dataloader, unit='batch'):\n",
    "                x, y = x.to(device), y.to(device)\n",
    "                pred, feat = model(x)\n",
    "                loss = loss_fn(pred, y, feat)\n",
    "                valid_loss.append(loss.item())\n",
    "                valid_num_correct.append(torch.sum(pred.argmax(1) == y).item())\n",
    "        valid_losses.append(np.mean(valid_loss))\n",
    "        valid_accs.append(np.sum(valid_num_correct) / len(validset))\n",
    "        \n",
    "        #print('Finished Epoch {}\\n training loss: {}, validation loss: {} \\n training accuracy: {}, validation accuracy: {}'\n",
    "        #        .format(epoch+1, train_losses[-1], valid_losses[-1], train_accs[-1], valid_accs[-1]))\n",
    "\n",
    "    return train_losses, valid_losses, train_accs, valid_accs"
   ]
  },
  {
   "cell_type": "code",
   "execution_count": 7,
   "id": "642b2aa3",
   "metadata": {},
   "outputs": [],
   "source": [
    "def plot_charts(train_accs, train_losses, valid_accs, valid_losses):\n",
    "    \n",
    "    fig, axs = plt.subplots(2, figsize=(10, 8))\n",
    "    \n",
    "    ##################################################\n",
    "    # TO DO:\n",
    "    # Please create two charts\n",
    "    # 1. Plot the train and valid accuracy\n",
    "    # 2. Plot the train and valid losses\n",
    "    ##################################################\n",
    "    \n",
    "    plt.tight_layout()\n",
    "    plt.legend()\n",
    "    plt.show()\n",
    "    "
   ]
  },
  {
   "cell_type": "markdown",
   "id": "c9be2e69",
   "metadata": {},
   "source": [
    "### 2.1 Baseline Architecture\n",
    "\n",
    "The first draft of the model will exclude the input transform and the feature transform.\n",
    "\n",
    "In the following section, please implement the following:\n",
    "- Complete the SharedMLP Class: This will include adding the appropriate number of layers, a BatchNorm, and ReLU activation function\n",
    "- Complete the forward function for the BaselineClassificationNN\n",
    "\n",
    "\n"
   ]
  },
  {
   "cell_type": "code",
   "execution_count": 8,
   "id": "38677f5e",
   "metadata": {},
   "outputs": [],
   "source": [
    "class MLP(nn.Sequential):\n",
    "    def __init__(self, layer_sizes, dropout=0.7):\n",
    "        layers = []\n",
    "        for i in range(len(layer_sizes)-1):\n",
    "            layers.append(nn.Linear(layer_sizes[i], layer_sizes[i+1]))\n",
    "            layers.append(nn.BatchNorm1d(layer_sizes[i+1]))\n",
    "            layers.append(nn.Dropout(dropout))\n",
    "            layers.append(nn.ReLU())\n",
    "        super(MLP, self).__init__(*layers)\n",
    "            \n",
    "\n",
    "class SharedMLP(nn.Sequential):\n",
    "    def __init__(self, layer_sizes):\n",
    "        layers = []\n",
    "        for i in range(len(layer_sizes)-1):\n",
    "            layers.append(nn.Conv1d(layer_sizes[i], layer_sizes[i+1], 1))\n",
    "            layers.append(nn.BatchNorm1d(layer_sizes[i+1]))\n",
    "            layers.append(nn.ReLU())\n",
    "        super(SharedMLP, self).__init__(*layers)"
   ]
  },
  {
   "cell_type": "code",
   "execution_count": 9,
   "id": "85f1c8af",
   "metadata": {},
   "outputs": [],
   "source": [
    "class BaselineClassificationNN(nn.Module):\n",
    "    def __init__(self, num_classes):\n",
    "        super(BaselineClassificationNN, self).__init__()\n",
    "        \n",
    "        ##################################################\n",
    "        # TO DO:\n",
    "        # Update the dimensions for the MLP layers below using the architecture diagram above\n",
    "        ##################################################\n",
    "        \n",
    "        #self.shared_mlp_1 = SharedMLP([...])\n",
    "        #self.shared_mlp_2 = SharedMLP([...])\n",
    "        #self.mlp = MLP([...])\n",
    "\n",
    "    def forward(self, x):\n",
    "\n",
    "        ##################################################\n",
    "        # TO DO:\n",
    "        # Create the forward function\n",
    "        # For the baseline model, please follow the architecture diagram for the classification network\n",
    "        # Here, we will skip the Input Transform and the Feature Transform\n",
    "        # Don't forget about the max pooling layer\n",
    "        ##################################################\n",
    "\n",
    "    def predict(self, x):\n",
    "        return self.forward(x)[0]"
   ]
  },
  {
   "cell_type": "code",
   "execution_count": 10,
   "id": "18eaca58",
   "metadata": {},
   "outputs": [
    {
     "data": {
      "application/vnd.jupyter.widget-view+json": {
       "model_id": "bee6ac09102541cda62371b2505626ac",
       "version_major": 2,
       "version_minor": 0
      },
      "text/plain": [
       "  0%|          | 0/11 [00:00<?, ?batch/s]"
      ]
     },
     "metadata": {},
     "output_type": "display_data"
    },
    {
     "data": {
      "application/vnd.jupyter.widget-view+json": {
       "model_id": "aa242c4fea2342269f1daf2b3739c42b",
       "version_major": 2,
       "version_minor": 0
      },
      "text/plain": [
       "  0%|          | 0/5 [00:00<?, ?batch/s]"
      ]
     },
     "metadata": {},
     "output_type": "display_data"
    },
    {
     "data": {
      "application/vnd.jupyter.widget-view+json": {
       "model_id": "94ca053e39cf411a815e4e1366be6eca",
       "version_major": 2,
       "version_minor": 0
      },
      "text/plain": [
       "  0%|          | 0/11 [00:00<?, ?batch/s]"
      ]
     },
     "metadata": {},
     "output_type": "display_data"
    },
    {
     "data": {
      "application/vnd.jupyter.widget-view+json": {
       "model_id": "af30bda6f18b49098cb8381eef703690",
       "version_major": 2,
       "version_minor": 0
      },
      "text/plain": [
       "  0%|          | 0/5 [00:00<?, ?batch/s]"
      ]
     },
     "metadata": {},
     "output_type": "display_data"
    },
    {
     "data": {
      "application/vnd.jupyter.widget-view+json": {
       "model_id": "933ccd7df15c4d7a905fb82f675585d5",
       "version_major": 2,
       "version_minor": 0
      },
      "text/plain": [
       "  0%|          | 0/11 [00:00<?, ?batch/s]"
      ]
     },
     "metadata": {},
     "output_type": "display_data"
    },
    {
     "data": {
      "application/vnd.jupyter.widget-view+json": {
       "model_id": "d499b2f581704030a1f1361acec1a610",
       "version_major": 2,
       "version_minor": 0
      },
      "text/plain": [
       "  0%|          | 0/5 [00:00<?, ?batch/s]"
      ]
     },
     "metadata": {},
     "output_type": "display_data"
    },
    {
     "data": {
      "application/vnd.jupyter.widget-view+json": {
       "model_id": "0207e21ba1404ce9a53caa2009edef52",
       "version_major": 2,
       "version_minor": 0
      },
      "text/plain": [
       "  0%|          | 0/11 [00:00<?, ?batch/s]"
      ]
     },
     "metadata": {},
     "output_type": "display_data"
    },
    {
     "data": {
      "application/vnd.jupyter.widget-view+json": {
       "model_id": "ac4e187da43a47018e70d030784705b6",
       "version_major": 2,
       "version_minor": 0
      },
      "text/plain": [
       "  0%|          | 0/5 [00:00<?, ?batch/s]"
      ]
     },
     "metadata": {},
     "output_type": "display_data"
    },
    {
     "data": {
      "application/vnd.jupyter.widget-view+json": {
       "model_id": "395d28c459b24a10969c6bebb97fd929",
       "version_major": 2,
       "version_minor": 0
      },
      "text/plain": [
       "  0%|          | 0/11 [00:00<?, ?batch/s]"
      ]
     },
     "metadata": {},
     "output_type": "display_data"
    },
    {
     "data": {
      "application/vnd.jupyter.widget-view+json": {
       "model_id": "d1fbe11147054e049687c9b76c1bde84",
       "version_major": 2,
       "version_minor": 0
      },
      "text/plain": [
       "  0%|          | 0/5 [00:00<?, ?batch/s]"
      ]
     },
     "metadata": {},
     "output_type": "display_data"
    }
   ],
   "source": [
    "baseline_model = BaselineClassificationNN(num_classes)\n",
    "lr = 0.0001\n",
    "device = 'cpu'\n",
    "\n",
    "optimizer = torch.optim.Adam(baseline_model.parameters(), lr=lr)\n",
    "baseline_train_losses, baseline_valid_losses, baseline_train_accs, baseline_valid_accs = train(baseline_model, trainset, validset, optimizer, epochs=epochs, device=device)"
   ]
  },
  {
   "cell_type": "code",
   "execution_count": 11,
   "id": "e3b60173",
   "metadata": {},
   "outputs": [
    {
     "data": {
      "image/png": "[encoded data removed]",
      "text/plain": [
       "<Figure size 720x576 with 2 Axes>"
      ]
     },
     "metadata": {
      "needs_background": "light"
     },
     "output_type": "display_data"
    }
   ],
   "source": [
    "plot_charts(baseline_train_accs, baseline_train_losses, baseline_valid_accs, baseline_valid_losses)"
   ]
  },
  {
   "cell_type": "markdown",
   "id": "44ff7c73",
   "metadata": {},
   "source": [
    "### 2.2 Add Input Transform\n",
    "\n",
    "In the following section, please implement the following:\n",
    "- Complete the TNet Class: This will include adding the appropriate number of layers, a BatchNorm, and ReLU activation function\n",
    "- Modify the BaselineClassificationNN to include the Input Transform"
   ]
  },
  {
   "cell_type": "code",
   "execution_count": 12,
   "id": "ac1b455d",
   "metadata": {},
   "outputs": [],
   "source": [
    "class T_net(nn.Module):\n",
    "    def __init__(self, size, dropout=0.7, bn_momentum=None):\n",
    "        super(T_net, self).__init__()\n",
    "        self.size = size\n",
    "\n",
    "        self.shared_mlp = SharedMLP([size, 64, 128, 1024])\n",
    "\n",
    "        self.fc1 = nn.Linear(1024, 512)\n",
    "        self.fc2 = nn.Linear(512, 256)\n",
    "        self.fc3 = nn.Linear(256, size*size, bias=False)\n",
    "        self.fc3.requires_grad_(False)\n",
    "\n",
    "        self.bn1 = nn.BatchNorm1d(512, momentum=bn_momentum)\n",
    "        self.bn2 = nn.BatchNorm1d(256, momentum=bn_momentum)\n",
    "\n",
    "    def forward(self, x):\n",
    "        '''\n",
    "            Input: B x size x N\n",
    "        '''\n",
    "        out = self.shared_mlp(x)\n",
    "        out = F.max_pool1d(out, kernel_size=x.size(-1))\n",
    "        out = out.view(-1, 1024)\n",
    "        out = F.relu(self.bn1(self.fc1(out)))\n",
    "        out = F.relu(self.bn2(self.fc2(out)))\n",
    "\n",
    "        out = self.fc3(out)\n",
    "        out = out.view(-1, self.size, self.size)\n",
    "        bias = torch.eye(self.size, requires_grad=True).expand(x.size(0), -1, -1)\n",
    "        return out + bias\n"
   ]
  },
  {
   "cell_type": "code",
   "execution_count": 13,
   "id": "bd3fd530",
   "metadata": {},
   "outputs": [],
   "source": [
    "class InputTransform(nn.Module):\n",
    "    def __init__(self):\n",
    "        super(InputTransform, self).__init__()\n",
    "        self.T_net = T_net(3)\n",
    "\n",
    "    def forward(self, x):\n",
    "        out = self.T_net(x)\n",
    "        return torch.bmm(x.transpose(1, 2), out).transpose(1, 2)"
   ]
  },
  {
   "cell_type": "code",
   "execution_count": 14,
   "id": "27dc1aab",
   "metadata": {},
   "outputs": [],
   "source": [
    "class InputTransformClassificationNN(nn.Module):\n",
    "    def __init__(self, num_classes):\n",
    "        super(InputTransformClassificationNN, self).__init__()\n",
    "        self.input_transform = InputTransform()\n",
    "        self.shared_mlp_1 = SharedMLP([3, 64, 64])\n",
    "        self.shared_mlp_2 = SharedMLP([64, 64, 128, 1024])\n",
    "        self.mlp = MLP([1024, 512, 256, num_classes])\n",
    "\n",
    "    def forward(self, x):\n",
    "\n",
    "        ##################################################\n",
    "        # TO DO:\n",
    "        # Create the forward function\n",
    "        # You can copy and paste the code from class above and add the Input Transform\n",
    "        ##################################################\n",
    "\n",
    "    def predict(self, x):\n",
    "        return self.forward(x)[0]"
   ]
  },
  {
   "cell_type": "code",
   "execution_count": 15,
   "id": "5ffd0ec4",
   "metadata": {},
   "outputs": [
    {
     "data": {
      "application/vnd.jupyter.widget-view+json": {
       "model_id": "373d2867fa1445139c6e6ed147bb9ae2",
       "version_major": 2,
       "version_minor": 0
      },
      "text/plain": [
       "  0%|          | 0/11 [00:00<?, ?batch/s]"
      ]
     },
     "metadata": {},
     "output_type": "display_data"
    },
    {
     "data": {
      "application/vnd.jupyter.widget-view+json": {
       "model_id": "e6377245b58b4ae49302ab3e4a2f9563",
       "version_major": 2,
       "version_minor": 0
      },
      "text/plain": [
       "  0%|          | 0/5 [00:00<?, ?batch/s]"
      ]
     },
     "metadata": {},
     "output_type": "display_data"
    },
    {
     "data": {
      "application/vnd.jupyter.widget-view+json": {
       "model_id": "e4423e599de042668d7a160fade6e5e2",
       "version_major": 2,
       "version_minor": 0
      },
      "text/plain": [
       "  0%|          | 0/11 [00:00<?, ?batch/s]"
      ]
     },
     "metadata": {},
     "output_type": "display_data"
    },
    {
     "data": {
      "application/vnd.jupyter.widget-view+json": {
       "model_id": "7f33ae43d8f14e13b7aad073d21c31a4",
       "version_major": 2,
       "version_minor": 0
      },
      "text/plain": [
       "  0%|          | 0/5 [00:00<?, ?batch/s]"
      ]
     },
     "metadata": {},
     "output_type": "display_data"
    },
    {
     "data": {
      "application/vnd.jupyter.widget-view+json": {
       "model_id": "857aa699ca2e4ed99425e109944a2dbe",
       "version_major": 2,
       "version_minor": 0
      },
      "text/plain": [
       "  0%|          | 0/11 [00:00<?, ?batch/s]"
      ]
     },
     "metadata": {},
     "output_type": "display_data"
    },
    {
     "data": {
      "application/vnd.jupyter.widget-view+json": {
       "model_id": "0a85d9084201475f96eea92f7cf8740e",
       "version_major": 2,
       "version_minor": 0
      },
      "text/plain": [
       "  0%|          | 0/5 [00:00<?, ?batch/s]"
      ]
     },
     "metadata": {},
     "output_type": "display_data"
    },
    {
     "data": {
      "application/vnd.jupyter.widget-view+json": {
       "model_id": "5295fca106594563b8ff9f42fb8d36ac",
       "version_major": 2,
       "version_minor": 0
      },
      "text/plain": [
       "  0%|          | 0/11 [00:00<?, ?batch/s]"
      ]
     },
     "metadata": {},
     "output_type": "display_data"
    },
    {
     "data": {
      "application/vnd.jupyter.widget-view+json": {
       "model_id": "8ebfc603824c4abbacaa2f76e33b5086",
       "version_major": 2,
       "version_minor": 0
      },
      "text/plain": [
       "  0%|          | 0/5 [00:00<?, ?batch/s]"
      ]
     },
     "metadata": {},
     "output_type": "display_data"
    },
    {
     "data": {
      "application/vnd.jupyter.widget-view+json": {
       "model_id": "6a09385248f348c49353fe86ffac69d6",
       "version_major": 2,
       "version_minor": 0
      },
      "text/plain": [
       "  0%|          | 0/11 [00:00<?, ?batch/s]"
      ]
     },
     "metadata": {},
     "output_type": "display_data"
    },
    {
     "data": {
      "application/vnd.jupyter.widget-view+json": {
       "model_id": "0a0b1c74831b4fee86060d0e64c765cf",
       "version_major": 2,
       "version_minor": 0
      },
      "text/plain": [
       "  0%|          | 0/5 [00:00<?, ?batch/s]"
      ]
     },
     "metadata": {},
     "output_type": "display_data"
    }
   ],
   "source": [
    "input_transform_model = InputTransformClassificationNN(num_classes)\n",
    "lr = 0.0001\n",
    "device = 'cpu'\n",
    "\n",
    "optimizer = torch.optim.Adam(input_transform_model.parameters(), lr=lr)\n",
    "input_train_losses, input_valid_losses, input_train_accs, input_valid_accs = train(input_transform_model, trainset, validset, optimizer, epochs=epochs, device=device)"
   ]
  },
  {
   "cell_type": "code",
   "execution_count": 20,
   "id": "6bbfd8ce",
   "metadata": {},
   "outputs": [
    {
     "data": {
      "image/png": "[encoded data removed]",
      "text/plain": [
       "<Figure size 720x576 with 2 Axes>"
      ]
     },
     "metadata": {
      "needs_background": "light"
     },
     "output_type": "display_data"
    }
   ],
   "source": [
    "plot_charts(input_train_accs, input_train_losses, input_valid_accs, input_valid_losses)"
   ]
  },
  {
   "cell_type": "markdown",
   "id": "84abbd3c",
   "metadata": {},
   "source": [
    "### 2.2 Add Feature Transform\n",
    "\n",
    "In the following section, please implement the following:\n",
    "- Complete the FeatureTransform Class\n",
    "- Update the FeatureTransformClassificationNN to include the Feature Transform"
   ]
  },
  {
   "cell_type": "code",
   "execution_count": 16,
   "id": "0f408b99",
   "metadata": {},
   "outputs": [],
   "source": [
    "class FeatureTransform(nn.Module):\n",
    "    def __init__(self):\n",
    "        super(FeatureTransform, self).__init__()\n",
    "        self.T_net = T_net(64)\n",
    "\n",
    "    def forward(self, x):\n",
    "        out = self.T_net(x)\n",
    "        self.A = out\n",
    "        return torch.bmm(x.transpose(1, 2), out).transpose(1, 2)"
   ]
  },
  {
   "cell_type": "code",
   "execution_count": 17,
   "id": "e6a20e23",
   "metadata": {},
   "outputs": [],
   "source": [
    "class FullClassificationNN(nn.Module):\n",
    "    def __init__(self, num_classes):\n",
    "        super(FullClassificationNN, self).__init__()\n",
    "        self.input_transform = InputTransform()\n",
    "        self.feature_transform = FeatureTransform()\n",
    "        self.shared_mlp_1 = SharedMLP([3, 64, 64])\n",
    "        self.shared_mlp_2 = SharedMLP([64, 64, 128, 1024])\n",
    "        self.mlp = MLP([1024, 512, 256, num_classes])\n",
    "\n",
    "    def forward(self, x):\n",
    "        \n",
    "        ##################################################\n",
    "        # TO DO:\n",
    "        # Create the forward function\n",
    "        # You can copy and paste the code from class above and add the Feature Transform\n",
    "        ##################################################\n",
    "\n",
    "    def predict(self, x):\n",
    "        return self.forward(x)[0]"
   ]
  },
  {
   "cell_type": "code",
   "execution_count": 18,
   "id": "01fb87e2",
   "metadata": {},
   "outputs": [
    {
     "data": {
      "application/vnd.jupyter.widget-view+json": {
       "model_id": "5aa380219d124ba79914112a1605429c",
       "version_major": 2,
       "version_minor": 0
      },
      "text/plain": [
       "  0%|          | 0/11 [00:00<?, ?batch/s]"
      ]
     },
     "metadata": {},
     "output_type": "display_data"
    },
    {
     "data": {
      "application/vnd.jupyter.widget-view+json": {
       "model_id": "6a0907e761a54192a9d2683508d8eff3",
       "version_major": 2,
       "version_minor": 0
      },
      "text/plain": [
       "  0%|          | 0/5 [00:00<?, ?batch/s]"
      ]
     },
     "metadata": {},
     "output_type": "display_data"
    },
    {
     "data": {
      "application/vnd.jupyter.widget-view+json": {
       "model_id": "8d76f7ea2133486585448f164086a623",
       "version_major": 2,
       "version_minor": 0
      },
      "text/plain": [
       "  0%|          | 0/11 [00:00<?, ?batch/s]"
      ]
     },
     "metadata": {},
     "output_type": "display_data"
    },
    {
     "data": {
      "application/vnd.jupyter.widget-view+json": {
       "model_id": "96111cb3bcb04d94989484327f14c005",
       "version_major": 2,
       "version_minor": 0
      },
      "text/plain": [
       "  0%|          | 0/5 [00:00<?, ?batch/s]"
      ]
     },
     "metadata": {},
     "output_type": "display_data"
    },
    {
     "data": {
      "application/vnd.jupyter.widget-view+json": {
       "model_id": "5de72f35e16444aaaecafffae789b1aa",
       "version_major": 2,
       "version_minor": 0
      },
      "text/plain": [
       "  0%|          | 0/11 [00:00<?, ?batch/s]"
      ]
     },
     "metadata": {},
     "output_type": "display_data"
    },
    {
     "data": {
      "application/vnd.jupyter.widget-view+json": {
       "model_id": "6e41a6941efe4c71b8451d90a7055ade",
       "version_major": 2,
       "version_minor": 0
      },
      "text/plain": [
       "  0%|          | 0/5 [00:00<?, ?batch/s]"
      ]
     },
     "metadata": {},
     "output_type": "display_data"
    },
    {
     "data": {
      "application/vnd.jupyter.widget-view+json": {
       "model_id": "7fbc0c8468b84770aaeeaaa27a1f7f78",
       "version_major": 2,
       "version_minor": 0
      },
      "text/plain": [
       "  0%|          | 0/11 [00:00<?, ?batch/s]"
      ]
     },
     "metadata": {},
     "output_type": "display_data"
    },
    {
     "data": {
      "application/vnd.jupyter.widget-view+json": {
       "model_id": "98b7b615c609439e8a250b8b2cc3fdd3",
       "version_major": 2,
       "version_minor": 0
      },
      "text/plain": [
       "  0%|          | 0/5 [00:00<?, ?batch/s]"
      ]
     },
     "metadata": {},
     "output_type": "display_data"
    },
    {
     "data": {
      "application/vnd.jupyter.widget-view+json": {
       "model_id": "f2247a6074ef4ca4b9b5a6d1feec0d81",
       "version_major": 2,
       "version_minor": 0
      },
      "text/plain": [
       "  0%|          | 0/11 [00:00<?, ?batch/s]"
      ]
     },
     "metadata": {},
     "output_type": "display_data"
    },
    {
     "data": {
      "application/vnd.jupyter.widget-view+json": {
       "model_id": "15f6a668aa82412bb280a545d47f455d",
       "version_major": 2,
       "version_minor": 0
      },
      "text/plain": [
       "  0%|          | 0/5 [00:00<?, ?batch/s]"
      ]
     },
     "metadata": {},
     "output_type": "display_data"
    }
   ],
   "source": [
    "full_model = FullClassificationNN(num_classes)\n",
    "lr = 0.0001\n",
    "device = 'cpu'\n",
    "\n",
    "optimizer = torch.optim.Adam(full_model.parameters(), lr=lr)\n",
    "full_train_losses, full_valid_losses, full_train_accs, full_valid_accs = train(full_model, trainset, validset, optimizer, epochs=epochs, device=device)"
   ]
  },
  {
   "cell_type": "code",
   "execution_count": 21,
   "id": "9e4a0940",
   "metadata": {},
   "outputs": [
    {
     "data": {
      "image/png": "[encoded data removed]",
      "text/plain": [
       "<Figure size 720x576 with 2 Axes>"
      ]
     },
     "metadata": {
      "needs_background": "light"
     },
     "output_type": "display_data"
    }
   ],
   "source": [
    "plot_charts(full_train_accs, full_train_losses, full_valid_accs, full_valid_losses)"
   ]
  },
  {
   "cell_type": "markdown",
   "id": "c7d47142",
   "metadata": {},
   "source": [
    "### 2.4 Update the Task for Segmentation"
   ]
  },
  {
   "cell_type": "code",
   "execution_count": 19,
   "id": "2ac263d3",
   "metadata": {},
   "outputs": [],
   "source": [
    "class SegmentationNN(nn.Module):\n",
    "    def __init__(self, num_features: int):\n",
    "        super(SegmentationNN, self).__init__()\n",
    "        self.input_transform = InputTransform()\n",
    "        self.feature_transform = FeatureTransform()\n",
    "\n",
    "        self.mlp_1 = SharedMLP([3, 64, 64])\n",
    "        self.mlp_2 = SharedMLP([64, 64, 128, 1024])\n",
    "        self.mlp_3 = SharedMLP([1088, 512, 256, 128])\n",
    "        self.mlp_4 = SharedMLP([128, 128, num_features])\n",
    "        \n",
    "    def forward(self, x):\n",
    "        out = self.input_transform(x)\n",
    "        out = self.mlp_1(out)\n",
    "        feat_out = self.feature_transform(out)\n",
    "        global_feature = self.mlp_2(out)\n",
    "        global_feature = F.max_pool1d(global_feature, x.size(2))\n",
    "        global_feature = global_feature.expand(-1, -1, x.size(-1))\n",
    "        out = torch.cat([out, global_feature], 1)\n",
    "        out = self.mlp_3(out)\n",
    "        out = self.mlp_4(out)\n",
    "        return out, feat_out\n",
    "\n",
    "    def predict(self, x):\n",
    "        return self.forward(x)[0]"
   ]
  },
  {
   "cell_type": "markdown",
   "id": "275246c9",
   "metadata": {},
   "source": [
    "# Remaining Items To-Do\n",
    "- Improve the implementation of ModelNet2\n",
    "- Finalize the Segmentation Network\n",
    "- Dig into odd charts (why is validation loss increasing)"
   ]
  },
  {
   "cell_type": "code",
   "execution_count": null,
   "id": "5507cb41",
   "metadata": {},
   "outputs": [],
   "source": []
  },
  {
   "cell_type": "code",
   "execution_count": null,
   "id": "fd73056a",
   "metadata": {},
   "outputs": [],
   "source": []
  }
 ],
 "metadata": {
  "kernelspec": {
   "display_name": "cs182",
   "language": "python",
   "name": "cs182"
  },
  "language_info": {
   "codemirror_mode": {
    "name": "ipython",
    "version": 3
   },
   "file_extension": ".py",
   "mimetype": "text/x-python",
   "name": "python",
   "nbconvert_exporter": "python",
   "pygments_lexer": "ipython3",
   "version": "3.11.3"
  }
 },
 "nbformat": 4,
 "nbformat_minor": 5
}
